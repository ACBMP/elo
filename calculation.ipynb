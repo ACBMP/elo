{
 "cells": [
  {
   "cell_type": "markdown",
   "metadata": {},
   "source": [
    "The elo system for two players $A$ and $B$ with $E$ being the expected score (chance of winning in percent) and $R$ being the rating of the players says:\n",
    "$$E_{A}={\\frac {1}{1+10^{(R_{B}-R_{A})/400}}}$$\n",
    "or conversely\n",
    "$$E_{B}={\\frac {1}{1+10^{(R_{A}-R_{B})/400}}}$$\n",
    "\n",
    "Further, the adjustment after a match, with $R'$ being the updated rating, $S$ being the outcome, and $K$ being a scaling factor:\n",
    "$$R_{A}^{\\prime }=R_{A}+K(S_{A}-E_{A})$$\n",
    "This scaling factor of $K$ represents the maximum the score can be adjusted by, and is apparently often adjusted depending on the player's current score. An example $K$ equation from the USCF, with $N_e$ being the effective number of games a rating is based on and $m$ being the number of games in a tournament:\n",
    "$$K=800/(N_{e}+m)$$\n",
    "Other implementations seem to be without formulas, e.g.:\n",
    "$$K = \\begin{cases}40 & \\textrm{less than 30 games played as long as } R < 2300 \\\\ 20 & R \\leq 2300 \\\\ 10 & R > 2300\\end{cases}$$\n",
    "For simplicity's sake, we will proceed with the latter cases-based way of finding K.\n",
    "\n",
    "In addition to the above, we have added a simple points difference factor $P$, which uses the team scores $p_A$ and $p_B$:\n",
    "$$P = \\frac{\\max(p_A, p_B) - \\min(p_A, p_B)}{(p_A - p_B) / 2}$$\n",
    "This extends the $R'$ calculation:\n",
    "$$R_{A}^{\\prime }=R_{A}+(1 + P) \\times K(S_{A}-E_{A})$$\n",
    "\n",
    "In our case, we track 2v2 escort and 3v3/4v4 manhunt games, so we have to calculate the team rankings. We use a weighted mean $m_w$ of the team's rankings in accordance to each player's difference $d$ from the opposing team's mean ranking $m_e$, whereby weights are calculated according to:\n",
    "$$w = \\frac{\\mathrm{abs}(p - m_e)}{d}$$\n",
    "\n",
    "As of season 2, we have added 10 so called \"placement games\", which replace the above formulas. During these 10 games, any win raises the player's rating by 75, while every loss lowers it by 25. To compensate, every player starts off with a ranking of 750.\n",
    "\n",
    "Side note: We are aware of the Glicko-2 algorithm, however this would be overly complicated to implement due to platform restrictions for certain players creating scenarios where ranking adjustment is needlessly inflated."
   ]
  },
  {
   "cell_type": "code",
   "execution_count": 110,
   "metadata": {},
   "outputs": [],
   "source": [
    "def E(R):\n",
    "    return ((1 + 10 ** ((R[1] - R[0]) / 400)) ** -1)\n",
    "\n",
    "def R_1v1(R, S, K=None, N=1):\n",
    "    if K is None:\n",
    "        K = Kc(N, R[0])\n",
    "    return R[0] + K * (S - E(R))\n",
    "\n",
    "def new_R(R, S, E, t1, t2, K=None, N=None):\n",
    "    if N > 10:\n",
    "        if K is None:\n",
    "            K = Kc(N, R)\n",
    "        return R + K * (S - E) * (1 + score(t1, t2))\n",
    "    else:\n",
    "        if S == 1:\n",
    "            return R + 75\n",
    "        elif S == 0:\n",
    "            return R - 25\n",
    "        elif S == .5:\n",
    "            return R\n",
    "        else:\n",
    "            raise ValueError(\"Broken outcome.\")\n",
    "\n",
    "def Kc(N, R):\n",
    "    if N < 30 and R < 2300:\n",
    "        return 40\n",
    "    elif R <= 2300:\n",
    "        return 20\n",
    "    else: # R > 2300\n",
    "        return 10\n",
    "    \n",
    "def score(t1, t2):\n",
    "    if t1 > t2:\n",
    "        return (t1 - t2) / ((t1 + t2) / 2)\n",
    "    elif t1 < t2:\n",
    "        return (t2 - t1) / ((t1 + t2) / 2)\n",
    "    else:\n",
    "        return 0\n",
    "    \n",
    "def w_mean(rankings, rankings_o):\n",
    "    mean = sum(rankings_o) / len(rankings_o)\n",
    "    diffs = []\n",
    "    for r in rankings:\n",
    "        diffs.append(abs(r - mean))\n",
    "    weights = []\n",
    "    for d in diffs:\n",
    "        try:\n",
    "            weights.append(d / sum(diffs))\n",
    "        except ZeroDivisionError:\n",
    "            weights.append(0)\n",
    "    w_sum = sum(weights)\n",
    "    if w_sum == 0:\n",
    "        w_sum = len(rankings)\n",
    "        weights = [1] * len(rankings)\n",
    "    return sum([rankings[_] * weights[_] for _ in range(len(rankings))]) / sum(weights), weights"
   ]
  },
  {
   "cell_type": "markdown",
   "metadata": {},
   "source": [
    "An example wrapper:"
   ]
  },
  {
   "cell_type": "code",
   "execution_count": 115,
   "metadata": {},
   "outputs": [],
   "source": [
    "ratings_db = {\"Dellpit\": [750, 0], \"MrEirox\": [750, 0], \"Tha Fazz\": [750, 0], \"Jelko\": [750, 0], \"Lime\": [750, 0], \"DurZa\": [750, 0]}\n",
    "db_copy = {\"Dellpit\": [750, 0], \"MrEirox\": [750, 0], \"Tha Fazz\": [750, 0], \"Jelko\": [750, 0], \"Lime\": [750, 0], \"DurZa\": [750, 0]}"
   ]
  },
  {
   "cell_type": "code",
   "execution_count": 112,
   "metadata": {},
   "outputs": [],
   "source": [
    "def team_ratings(team_1, team_2, outcome, score_1, score_2):\n",
    "    \n",
    "    # team sizes\n",
    "    l = len(team_1)\n",
    "    \n",
    "    # make sure team_1 and team_2 have same length\n",
    "    if l != len(team_2):\n",
    "        raise ValueError(\"team_1 and team_2 must have the same length!\")\n",
    "    \n",
    "    # set S value according to outcome\n",
    "    if outcome == 1:\n",
    "        S = [1, 0]\n",
    "    elif outcome == 2:\n",
    "        S = [0, 1]\n",
    "    elif outcome == 0:\n",
    "        S = [.5, .5]\n",
    "    else:\n",
    "        raise ValueError(\"outcome must be 1 for team_1, 2 for team_2, or 0 for a tie!\")\n",
    "    \n",
    "    # read out player data from db\n",
    "    t1 = []\n",
    "    t2 = []\n",
    "    for i in range(l):\n",
    "        t1.append(ratings_db[team_1[i]])\n",
    "        t2.append(ratings_db[team_2[i]])\n",
    "    \n",
    "    # calculate total rating for each team \n",
    "    R_old_1 = []\n",
    "    R_old_2 = []\n",
    "    \n",
    "    for i in range(l):\n",
    "        R_old_1.append((t1[i])[0])\n",
    "        R_old_2.append((t2[i])[0])\n",
    "    \n",
    "    # calculate expected outcome for each team\n",
    "    E_1 = E([w_mean(R_old_1, R_old_2)[0], w_mean(R_old_2, R_old_1)[0]])\n",
    "    E_2 = 1 - E_1\n",
    "    \n",
    "    # update values in database\n",
    "    for i in range(l):\n",
    "        ratings_db[team_1[i]] = [((new_R(R=(t1[i])[0], S=S[0], E=E_1, N=(t1[i])[1], t1=score_1, t2=score_2))), (t1[i])[1] + 1]\n",
    "        ratings_db[team_2[i]] = [((new_R(R=(t2[i])[0], S=S[1], E=E_2, N=(t2[i])[1], t1=score_1, t2=score_2))), (t2[i])[1] + 1]\n",
    "        db_copy[team_1[i]] = [((new_R(R=(t1[i])[0], S=S[0], E=E_1, N=(t1[i])[1], t1=0, t2=0))), (t1[i])[1] + 1]\n",
    "        db_copy[team_2[i]] = [((new_R(R=(t2[i])[0], S=S[1], E=E_2, N=(t2[i])[1], t1=0, t2=0))), (t2[i])[1] + 1]\n",
    "        \n",
    "#    print(\"Ratings successfully adjusted.\")\n",
    "    \n",
    "    return"
   ]
  },
  {
   "cell_type": "code",
   "execution_count": 116,
   "metadata": {},
   "outputs": [],
   "source": [
    "#for _ in range(1000):\n",
    "#    team_ratings(team_1=[\"Dellpit\"], team_2=[\"Tha Fazz\"], outcome=1, score_1=30000, score_2=15000)\n",
    "import random\n",
    "history = []\n",
    "for _ in range(15):\n",
    "    players = [\"Dellpit\", \"MrEirox\", \"Lime\", \"Tha Fazz\", \"Jelko\", \"DurZa\"]\n",
    "    t1 = random.sample(players, k=3)\n",
    "    players.remove(t1[0])\n",
    "    players.remove(t1[1])\n",
    "    players.remove(t1[2])\n",
    "    out = [random.randint(1, 2), random.randint(10000, 25000), random.randint(10000, 25000)]\n",
    "    team_ratings(team_1=t1, team_2=players, outcome=out[0], score_1=out[1], score_2=out[2])\n",
    "    history.append(out)"
   ]
  },
  {
   "cell_type": "code",
   "execution_count": 117,
   "metadata": {},
   "outputs": [
    {
     "name": "stdout",
     "output_type": "stream",
     "text": [
      "with scores:  {'Dellpit': [1248.6681723360207, 15], 'MrEirox': [879.4907190385779, 15], 'Tha Fazz': [739.284790400865, 15], 'Jelko': [901.3318276639793, 15], 'Lime': [1115.7740194589683, 15], 'DurZa': [1265.4504711015888, 15]}\n",
      "without scores:  {'Dellpit': [1251.610787750787, 15], 'MrEirox': [882.4333344533444, 15], 'Tha Fazz': [742.2274058156314, 15], 'Jelko': [898.3892122492128, 15], 'Lime': [1112.831404044202, 15], 'DurZa': [1262.5078556868225, 15]}\n",
      "outcomes:  [[1, 20325, 17962], [1, 12244, 19027], [2, 22396, 10086], [2, 11691, 11314], [2, 14987, 23566], [1, 23546, 21923], [2, 20079, 16391], [1, 12184, 19847], [2, 16355, 16872], [2, 13276, 10419], [2, 11189, 16675], [1, 24643, 19808], [1, 22055, 14988], [2, 11550, 18376], [2, 19084, 13141]]\n"
     ]
    }
   ],
   "source": [
    "#team_ratings(team_1=[\"Dellpit\"], team_2=[\"Tha Fazz\"], outcome=1)\n",
    "print(\"with scores: \", ratings_db)\n",
    "print(\"without scores: \", db_copy)\n",
    "print(\"outcomes: \", history)"
   ]
  },
  {
   "cell_type": "code",
   "execution_count": 31,
   "metadata": {},
   "outputs": [],
   "source": [
    "example_matches = [{\"mode\": \"escort\", \"team_1\": [\"Dellpit\", \"MrEirox\"], \"team_2\": [\"Tha Fazz\", \"Jelko\"], \"outcome\": 1, \"new\": False},\n",
    "                   {\"mode\": \"escort\", \"team_1\": [\"Dellpit\", \"MrEirox\"], \"team_2\": [\"Tha Fazz\", \"Jelko\"], \"outcome\": 1, \"new\": True},\n",
    "                   {\"mode\": \"escort\", \"team_1\": [\"Dellpit\", \"MrEirox\"], \"team_2\": [\"Tha Fazz\", \"Jelko\"], \"outcome\": 0, \"new\": True}, \n",
    "                   {\"mode\": \"escort\", \"team_1\": [\"Dellpit\", \"MrEirox\"], \"team_2\": [\"Tha Fazz\", \"Jelko\"], \"outcome\": 2, \"new\": True}]"
   ]
  },
  {
   "cell_type": "code",
   "execution_count": 323,
   "metadata": {},
   "outputs": [],
   "source": [
    "def new_matches(matches):\n",
    "    for i in range(len(matches)):\n",
    "        m = matches[i]\n",
    "        if m[\"new\"]:\n",
    "            m[\"new\"] = False\n",
    "            team_ratings(team_1=m[\"team_1\"], team_2=m[\"team_2\"], outcome=m[\"outcome\"])\n",
    "    return"
   ]
  },
  {
   "cell_type": "code",
   "execution_count": 324,
   "metadata": {},
   "outputs": [
    {
     "name": "stdout",
     "output_type": "stream",
     "text": [
      "Ratings successfully adjusted.\n",
      "Ratings successfully adjusted.\n",
      "Ratings successfully adjusted.\n"
     ]
    }
   ],
   "source": [
    "new_matches(example_matches)"
   ]
  },
  {
   "cell_type": "code",
   "execution_count": 325,
   "metadata": {},
   "outputs": [
    {
     "data": {
      "text/plain": [
       "[{'mode': 'escort',\n",
       "  'team_1': ['Dellpit', 'MrEirox'],\n",
       "  'team_2': ['Tha Fazz', 'Jelko'],\n",
       "  'outcome': 1,\n",
       "  'new': False},\n",
       " {'mode': 'escort',\n",
       "  'team_1': ['Dellpit', 'MrEirox'],\n",
       "  'team_2': ['Tha Fazz', 'Jelko'],\n",
       "  'outcome': 1,\n",
       "  'new': False},\n",
       " {'mode': 'escort',\n",
       "  'team_1': ['Dellpit', 'MrEirox'],\n",
       "  'team_2': ['Tha Fazz', 'Jelko'],\n",
       "  'outcome': 0,\n",
       "  'new': False},\n",
       " {'mode': 'escort',\n",
       "  'team_1': ['Dellpit', 'MrEirox'],\n",
       "  'team_2': ['Tha Fazz', 'Jelko'],\n",
       "  'outcome': 2,\n",
       "  'new': False}]"
      ]
     },
     "execution_count": 325,
     "metadata": {},
     "output_type": "execute_result"
    }
   ],
   "source": [
    "example_matches"
   ]
  },
  {
   "cell_type": "code",
   "execution_count": 326,
   "metadata": {},
   "outputs": [
    {
     "data": {
      "text/plain": [
       "{'Dellpit': [997, 3],\n",
       " 'MrEirox': [997, 3],\n",
       " 'Tha Fazz': [1007, 3],\n",
       " 'Jelko': [1007, 3],\n",
       " 'Lime': [1000, 0],\n",
       " 'DurZa': [1000, 0]}"
      ]
     },
     "execution_count": 326,
     "metadata": {},
     "output_type": "execute_result"
    }
   ],
   "source": [
    "ratings_db"
   ]
  },
  {
   "cell_type": "code",
   "execution_count": 81,
   "metadata": {},
   "outputs": [
    {
     "name": "stdout",
     "output_type": "stream",
     "text": [
      "rankings:  [1032, 803, 867]\n",
      "opponents' rankings:  [823, 1066, 937]\n",
      "unweighted mean:  900.6666666666666\n",
      "opponents' unweighted mean:  942.0\n",
      "weighted mean:  886.5855263157895\n",
      "weights:  [0.29605263157894735, 0.45723684210526316, 0.24671052631578946]\n",
      "\n",
      "\n",
      "rankings:  [988, 1000, 804]\n",
      "opponents' rankings:  [1087, 1069, 1194]\n",
      "unweighted mean:  930.6666666666666\n",
      "opponents' unweighted mean:  1116.6666666666667\n",
      "weighted mean:  887.4074074074074\n",
      "weights:  [0.23058542413381128, 0.20908004778972525, 0.5603345280764634]\n",
      "\n",
      "\n",
      "rankings:  [1177, 875, 1334]\n",
      "opponents' rankings:  [947, 975, 940]\n",
      "unweighted mean:  1128.6666666666667\n",
      "opponents' unweighted mean:  954.0\n",
      "weighted mean:  1229.4956011730205\n",
      "weights:  [0.32697947214076245, 0.1158357771260997, 0.5571847507331378]\n",
      "\n",
      "\n",
      "rankings:  [1082, 1003, 1081]\n",
      "opponents' rankings:  [813, 864, 1069]\n",
      "unweighted mean:  1055.3333333333333\n",
      "opponents' unweighted mean:  915.3333333333334\n",
      "weighted mean:  1065.1158730158731\n",
      "weights:  [0.39682539682539686, 0.2087301587301587, 0.3944444444444445]\n",
      "\n",
      "\n",
      "rankings:  [932, 828, 1130]\n",
      "opponents' rankings:  [921, 1186, 1150]\n",
      "unweighted mean:  963.3333333333334\n",
      "opponents' unweighted mean:  1085.6666666666667\n",
      "weighted mean:  892.4550109729333\n",
      "weights:  [0.3372348207754207, 0.5654718361375275, 0.09729334308705176]\n",
      "\n",
      "\n"
     ]
    }
   ],
   "source": [
    "import random\n",
    "for _ in range(5):\n",
    "    r = [random.randint(800, 1200), random.randint(800, 1200), random.randint(600, 1400)]\n",
    "    ro = [random.randint(800, 1200), random.randint(800, 1200), random.randint(800, 1200)]\n",
    "    print(\"rankings: \", r)\n",
    "    print(\"opponents' rankings: \", ro)\n",
    "    print(\"unweighted mean: \", sum(r) / len(r))\n",
    "    print(\"opponents' unweighted mean: \", sum(ro) / len(ro))\n",
    "    print(\"weighted mean: \", w_mean(r, ro)[0])\n",
    "    print(\"weights: \", w_mean(r, ro)[1])\n",
    "    print(\"\\n\")"
   ]
  },
  {
   "cell_type": "code",
   "execution_count": null,
   "metadata": {},
   "outputs": [],
   "source": []
  }
 ],
 "metadata": {
  "kernelspec": {
   "display_name": "Python 3",
   "language": "python",
   "name": "python3"
  },
  "language_info": {
   "codemirror_mode": {
    "name": "ipython",
    "version": 3
   },
   "file_extension": ".py",
   "mimetype": "text/x-python",
   "name": "python",
   "nbconvert_exporter": "python",
   "pygments_lexer": "ipython3",
   "version": "3.8.6"
  }
 },
 "nbformat": 4,
 "nbformat_minor": 4
}
