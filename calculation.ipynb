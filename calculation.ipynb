{
 "cells": [
  {
   "cell_type": "markdown",
   "metadata": {},
   "source": [
    "The elo system for two players $A$ and $B$ with $E$ being the expected score (chance of winning in percent) and $R$ being the rating of the players says:\n",
    "$$E_{A}={\\frac {1}{1+10^{(R_{B}-R_{A})/400}}}$$\n",
    "or conversely\n",
    "$$E_{B}={\\frac {1}{1+10^{(R_{A}-R_{B})/400}}}$$\n",
    "\n",
    "Further, the adjustment after a match, with $R'$ being the updated rating, $S$ being the outcome, and $K$ being a scaling factor:\n",
    "$$R_{A}^{\\prime }=R_{A}+K(S_{A}-E_{A})$$\n",
    "This scaling factor of $K$ represents the maximum the score can be adjusted by, and is apparently often adjusted depending on the player's current score. An example $K$ equation from the USCF, with $N_e$ being the effective number of games a rating is based on and $m$ being the number of games in a tournament:\n",
    "$$K=800/(N_{e}+m)$$\n",
    "Other implementations seem to be without formulas, e.g.:\n",
    "$$K = \\begin{cases}40 & \\textrm{less than 30 games played as long as } R < 2300 \\\\ 20 & R \\leq 2300 \\\\ 10 & R > 2300\\end{cases}$$\n",
    "For simplicity's sake, we will proceed with the latter cases-based way of finding K.\n",
    "\n",
    "Side note: We are aware of the Glicko-2 algorithm, however this would be overly complicated to implement due to platform restrictions for certain players creating scenarios where ranking adjustment is needlessly inflated."
   ]
  },
  {
   "cell_type": "code",
   "execution_count": 174,
   "metadata": {},
   "outputs": [],
   "source": [
    "def E(R):\n",
    "    return (1 + 10 ** ((R[1] - R[0]) / 400)) ** -1\n",
    "\n",
    "def R_1v1(R, S, K=None, N=1):\n",
    "    if K is None:\n",
    "        K = Kc(N, R[0])\n",
    "    return R[0] + K * (S - E(R))\n",
    "\n",
    "def new_R(R, S, E, K=None, N=None):\n",
    "    if K is None:\n",
    "        K = Kc(N, R)\n",
    "    return R + K * (S - E)\n",
    "\n",
    "def Kc(N, R):\n",
    "    if N < 30 and R < 2300:\n",
    "        return 40\n",
    "    elif R <= 2300:\n",
    "        return 20\n",
    "    else: # R > 2300\n",
    "        return 10"
   ]
  },
  {
   "cell_type": "markdown",
   "metadata": {},
   "source": [
    "An example wrapper:"
   ]
  },
  {
   "cell_type": "code",
   "execution_count": 322,
   "metadata": {},
   "outputs": [],
   "source": [
    "ratings_db = {\"Dellpit\": [1000, 0], \"MrEirox\": [1000, 0], \"Tha Fazz\": [1000, 0], \"Jelko\": [1000, 0], \"Lime\": [1000, 0], \"DurZa\": [1000, 0]}"
   ]
  },
  {
   "cell_type": "code",
   "execution_count": 314,
   "metadata": {},
   "outputs": [],
   "source": [
    "def team_ratings(team_1, team_2, outcome):\n",
    "    \n",
    "    # team sizes\n",
    "    l = len(team_1)\n",
    "    \n",
    "    # make sure team_1 and team_2 have same length\n",
    "    if l != len(team_2):\n",
    "        raise ValueError(\"team_1 and team_2 must have the same length!\")\n",
    "    \n",
    "    # set S value according to outcome\n",
    "    if outcome == 1:\n",
    "        S = [1, 0]\n",
    "    elif outcome == 2:\n",
    "        S = [0, 1]\n",
    "    elif outcome == 0:\n",
    "        S = [.5, .5]\n",
    "    else:\n",
    "        raise ValueError(\"outcome must be 1 for team_1, 2 for team_2, or 0 for a tie!\")\n",
    "    \n",
    "    # read out player data from db\n",
    "    t1 = []\n",
    "    t2 = []\n",
    "    for i in range(l):\n",
    "        t1.append(ratings_db[team_1[i]])\n",
    "        t2.append(ratings_db[team_2[i]])\n",
    "    \n",
    "    # calculate total rating for each team \n",
    "    R_old_1 = 0\n",
    "    R_old_2 = 0\n",
    "    \n",
    "    for i in range(l):\n",
    "        R_old_1 = R_old_1 + (t1[i])[0]\n",
    "        R_old_2 = R_old_2 + (t2[i])[0]\n",
    "    \n",
    "    # calculate expected outcome for each team\n",
    "    E_1 = E([R_old_1 / l, R_old_2 / l])\n",
    "    E_2 = 1 - E_1\n",
    "    \n",
    "    # update values in database\n",
    "    for i in range(l):\n",
    "        ratings_db[team_1[i]] = [int(new_R(R=(t1[i])[0], S=S[0], E=E_1, N=(t1[i])[1]) + 1), (t1[i])[1] + 1]\n",
    "        ratings_db[team_2[i]] = [int(new_R(R=(t2[i])[0], S=S[1], E=E_2, N=(t2[i])[1]) + 1), (t2[i])[1] + 1]\n",
    "        \n",
    "    print(\"Ratings successfully adjusted.\")\n",
    "    \n",
    "    return"
   ]
  },
  {
   "cell_type": "code",
   "execution_count": 299,
   "metadata": {},
   "outputs": [
    {
     "name": "stdout",
     "output_type": "stream",
     "text": [
      "Ratings successfully adjusted.\n"
     ]
    }
   ],
   "source": [
    "team_ratings(team_1=[\"Dellpit\", \"MrEirox\", \"Lime\"], team_2=[\"Tha Fazz\", \"Jelko\", \"DurZa\"], outcome=1)"
   ]
  },
  {
   "cell_type": "code",
   "execution_count": 315,
   "metadata": {},
   "outputs": [
    {
     "name": "stdout",
     "output_type": "stream",
     "text": [
      "{'Dellpit': [1000, 0], 'MrEirox': [1000, 0], 'Tha Fazz': [1000, 0], 'Jelko': [1000, 0], 'Lime': [1000, 0], 'DurZa': [1000, 0]}\n"
     ]
    }
   ],
   "source": [
    "print(ratings_db)"
   ]
  },
  {
   "cell_type": "code",
   "execution_count": 321,
   "metadata": {},
   "outputs": [],
   "source": [
    "example_matches = [{\"mode\": \"escort\", \"team_1\": [\"Dellpit\", \"MrEirox\"], \"team_2\": [\"Tha Fazz\", \"Jelko\"], \"outcome\": 1, \"new\": False},\n",
    "                   {\"mode\": \"escort\", \"team_1\": [\"Dellpit\", \"MrEirox\"], \"team_2\": [\"Tha Fazz\", \"Jelko\"], \"outcome\": 1, \"new\": True},\n",
    "                   {\"mode\": \"escort\", \"team_1\": [\"Dellpit\", \"MrEirox\"], \"team_2\": [\"Tha Fazz\", \"Jelko\"], \"outcome\": 0, \"new\": True}, \n",
    "                   {\"mode\": \"escort\", \"team_1\": [\"Dellpit\", \"MrEirox\"], \"team_2\": [\"Tha Fazz\", \"Jelko\"], \"outcome\": 2, \"new\": True}]"
   ]
  },
  {
   "cell_type": "code",
   "execution_count": 323,
   "metadata": {},
   "outputs": [],
   "source": [
    "def new_matches(matches):\n",
    "    for i in range(len(matches)):\n",
    "        m = matches[i]\n",
    "        if m[\"new\"]:\n",
    "            m[\"new\"] = False\n",
    "            team_ratings(team_1=m[\"team_1\"], team_2=m[\"team_2\"], outcome=m[\"outcome\"])\n",
    "    return"
   ]
  },
  {
   "cell_type": "code",
   "execution_count": 324,
   "metadata": {},
   "outputs": [
    {
     "name": "stdout",
     "output_type": "stream",
     "text": [
      "Ratings successfully adjusted.\n",
      "Ratings successfully adjusted.\n",
      "Ratings successfully adjusted.\n"
     ]
    }
   ],
   "source": [
    "new_matches(example_matches)"
   ]
  },
  {
   "cell_type": "code",
   "execution_count": 325,
   "metadata": {},
   "outputs": [
    {
     "data": {
      "text/plain": [
       "[{'mode': 'escort',\n",
       "  'team_1': ['Dellpit', 'MrEirox'],\n",
       "  'team_2': ['Tha Fazz', 'Jelko'],\n",
       "  'outcome': 1,\n",
       "  'new': False},\n",
       " {'mode': 'escort',\n",
       "  'team_1': ['Dellpit', 'MrEirox'],\n",
       "  'team_2': ['Tha Fazz', 'Jelko'],\n",
       "  'outcome': 1,\n",
       "  'new': False},\n",
       " {'mode': 'escort',\n",
       "  'team_1': ['Dellpit', 'MrEirox'],\n",
       "  'team_2': ['Tha Fazz', 'Jelko'],\n",
       "  'outcome': 0,\n",
       "  'new': False},\n",
       " {'mode': 'escort',\n",
       "  'team_1': ['Dellpit', 'MrEirox'],\n",
       "  'team_2': ['Tha Fazz', 'Jelko'],\n",
       "  'outcome': 2,\n",
       "  'new': False}]"
      ]
     },
     "execution_count": 325,
     "metadata": {},
     "output_type": "execute_result"
    }
   ],
   "source": [
    "example_matches"
   ]
  },
  {
   "cell_type": "code",
   "execution_count": 326,
   "metadata": {},
   "outputs": [
    {
     "data": {
      "text/plain": [
       "{'Dellpit': [997, 3],\n",
       " 'MrEirox': [997, 3],\n",
       " 'Tha Fazz': [1007, 3],\n",
       " 'Jelko': [1007, 3],\n",
       " 'Lime': [1000, 0],\n",
       " 'DurZa': [1000, 0]}"
      ]
     },
     "execution_count": 326,
     "metadata": {},
     "output_type": "execute_result"
    }
   ],
   "source": [
    "ratings_db"
   ]
  },
  {
   "cell_type": "code",
   "execution_count": null,
   "metadata": {},
   "outputs": [],
   "source": []
  }
 ],
 "metadata": {
  "kernelspec": {
   "display_name": "Python 3",
   "language": "python",
   "name": "python3"
  },
  "language_info": {
   "codemirror_mode": {
    "name": "ipython",
    "version": 3
   },
   "file_extension": ".py",
   "mimetype": "text/x-python",
   "name": "python",
   "nbconvert_exporter": "python",
   "pygments_lexer": "ipython3",
   "version": "3.8.1"
  }
 },
 "nbformat": 4,
 "nbformat_minor": 4
}
