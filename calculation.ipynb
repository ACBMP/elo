{
 "cells": [
  {
   "cell_type": "markdown",
   "metadata": {},
   "source": [
    "The elo system for two players A and B with $E$ being the expected score (chance of winning in percent) and $R$ being the rating of the players says:\n",
    "$$E_{A}={\\frac {1}{1+10^{(R_{B}-R_{A})/400}}}$$\n",
    "or conversely\n",
    "$$E_{B}={\\frac {1}{1+10^{(R_{A}-R_{B})/400}}}$$\n",
    "\n",
    "Further, the adjustment after a match, with $R'$ being the updated rating, $S$ being the outcome, and $K$ being a scaling factor:\n",
    "$$R_{A}^{\\prime }=R_{A}+K(S_{A}-E_{A})$$\n",
    "This scaling factor of $K$ represents the maximum the score can be adjusted by, and is apparently often adjusted depending on the player's current score. An example $K$ equation from the USCF, with $N_e$ being the effective number of games a rating is based on and $m$ being the number of games in a tournament:\n",
    "$$K=800/(N_{e}+m)$$\n",
    "Other implementations seem to be without formulas, e.g.:\n",
    "$$K = \\begin{cases}40 & \\textrm{less than 30 games played as long as} R < 2300 \\\\ 20 & R \\leq 2300 \\\\ 10 & R > 2300\\end{cases}$$"
   ]
  },
  {
   "cell_type": "code",
   "execution_count": 72,
   "metadata": {},
   "outputs": [],
   "source": [
    "def E(R):\n",
    "    return (1 + 10 ** ((R[1] - R[0]) / 400)) ** -1\n",
    "\n",
    "def Rn(R, S, K=None, N=1):\n",
    "    if K is None:\n",
    "        K = Kc(N, R[0])\n",
    "    return R[0] + K * (S - E(R))\n",
    "\n",
    "def Kc(N, R):\n",
    "    if N < 30 and R < 2300:\n",
    "        return 40\n",
    "    elif R <= 2300:\n",
    "        return 20\n",
    "    else: # R > 2300\n",
    "        return 10"
   ]
  },
  {
   "cell_type": "markdown",
   "metadata": {},
   "source": [
    "An example wrapper:"
   ]
  },
  {
   "cell_type": "code",
   "execution_count": 73,
   "metadata": {},
   "outputs": [],
   "source": [
    "all_players = {\"Dellpit\": [400, 1], \"Eirox\": [400, 1]}"
   ]
  },
  {
   "cell_type": "code",
   "execution_count": 80,
   "metadata": {},
   "outputs": [],
   "source": [
    "def find_ratings(players, outcome):\n",
    "    \"\"\"\n",
    "    Players will be saved in a dictionary. Outcome = 1 implies team 1 won and outcome = 2 implies team 2 won.\n",
    "    \"\"\"\n",
    "    # S is winning team - 1\n",
    "    S = outcome - 1\n",
    "    \n",
    "    p1 = all_players[players[0]]\n",
    "    p2 = all_players[players[1]]\n",
    "    \n",
    "    R = [p1[0], p2[0]]\n",
    "    N = [p1[1], p2[1]]\n",
    "    \n",
    "    Rnew = [Rn(R, S, N=N[0]), Rn(R[::-1], abs(S - 1), N=N[1])]\n",
    "    all_players[players[0]] = [Rnew[0]\n",
    "    all_players[players[1]] = Rnew[1]\n",
    "    \n",
    "    return Rnew"
   ]
  },
  {
   "cell_type": "code",
   "execution_count": 84,
   "metadata": {},
   "outputs": [
    {
     "ename": "TypeError",
     "evalue": "'float' object is not subscriptable",
     "output_type": "error",
     "traceback": [
      "\u001b[0;31m---------------------------------------------------------------------------\u001b[0m",
      "\u001b[0;31mTypeError\u001b[0m                                 Traceback (most recent call last)",
      "\u001b[0;32m<ipython-input-84-09329e3cd31e>\u001b[0m in \u001b[0;36m<module>\u001b[0;34m\u001b[0m\n\u001b[0;32m----> 1\u001b[0;31m \u001b[0mfind_ratings\u001b[0m\u001b[0;34m(\u001b[0m\u001b[0;34m[\u001b[0m\u001b[0;34m\"Dellpit\"\u001b[0m\u001b[0;34m,\u001b[0m \u001b[0;34m\"Eirox\"\u001b[0m\u001b[0;34m]\u001b[0m\u001b[0;34m,\u001b[0m \u001b[0;36m1\u001b[0m\u001b[0;34m)\u001b[0m\u001b[0;34m\u001b[0m\u001b[0;34m\u001b[0m\u001b[0m\n\u001b[0m",
      "\u001b[0;32m<ipython-input-80-8e6260a2f939>\u001b[0m in \u001b[0;36mfind_ratings\u001b[0;34m(players, outcome)\u001b[0m\n\u001b[1;32m      9\u001b[0m     \u001b[0mp2\u001b[0m \u001b[0;34m=\u001b[0m \u001b[0mall_players\u001b[0m\u001b[0;34m[\u001b[0m\u001b[0mplayers\u001b[0m\u001b[0;34m[\u001b[0m\u001b[0;36m1\u001b[0m\u001b[0;34m]\u001b[0m\u001b[0;34m]\u001b[0m\u001b[0;34m\u001b[0m\u001b[0;34m\u001b[0m\u001b[0m\n\u001b[1;32m     10\u001b[0m \u001b[0;34m\u001b[0m\u001b[0m\n\u001b[0;32m---> 11\u001b[0;31m     \u001b[0mR\u001b[0m \u001b[0;34m=\u001b[0m \u001b[0;34m[\u001b[0m\u001b[0mp1\u001b[0m\u001b[0;34m[\u001b[0m\u001b[0;36m0\u001b[0m\u001b[0;34m]\u001b[0m\u001b[0;34m,\u001b[0m \u001b[0mp2\u001b[0m\u001b[0;34m[\u001b[0m\u001b[0;36m0\u001b[0m\u001b[0;34m]\u001b[0m\u001b[0;34m]\u001b[0m\u001b[0;34m\u001b[0m\u001b[0;34m\u001b[0m\u001b[0m\n\u001b[0m\u001b[1;32m     12\u001b[0m     \u001b[0mN\u001b[0m \u001b[0;34m=\u001b[0m \u001b[0;34m[\u001b[0m\u001b[0mp1\u001b[0m\u001b[0;34m[\u001b[0m\u001b[0;36m1\u001b[0m\u001b[0;34m]\u001b[0m\u001b[0;34m,\u001b[0m \u001b[0mp2\u001b[0m\u001b[0;34m[\u001b[0m\u001b[0;36m1\u001b[0m\u001b[0;34m]\u001b[0m\u001b[0;34m]\u001b[0m\u001b[0;34m\u001b[0m\u001b[0;34m\u001b[0m\u001b[0m\n\u001b[1;32m     13\u001b[0m \u001b[0;34m\u001b[0m\u001b[0m\n",
      "\u001b[0;31mTypeError\u001b[0m: 'float' object is not subscriptable"
     ]
    }
   ],
   "source": [
    "find_ratings([\"Dellpit\", \"Eirox\"], 1)"
   ]
  },
  {
   "cell_type": "code",
   "execution_count": 86,
   "metadata": {},
   "outputs": [
    {
     "name": "stdout",
     "output_type": "stream",
     "text": [
      "380.0\n"
     ]
    }
   ],
   "source": []
  },
  {
   "cell_type": "code",
   "execution_count": null,
   "metadata": {},
   "outputs": [],
   "source": []
  }
 ],
 "metadata": {
  "kernelspec": {
   "display_name": "Python 3",
   "language": "python",
   "name": "python3"
  },
  "language_info": {
   "codemirror_mode": {
    "name": "ipython",
    "version": 3
   },
   "file_extension": ".py",
   "mimetype": "text/x-python",
   "name": "python",
   "nbconvert_exporter": "python",
   "pygments_lexer": "ipython3",
   "version": "3.8.0"
  }
 },
 "nbformat": 4,
 "nbformat_minor": 4
}
